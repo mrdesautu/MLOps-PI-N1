{
 "cells": [
  {
   "attachments": {},
   "cell_type": "markdown",
   "metadata": {},
   "source": [
    "Etl Rating\n"
   ]
  },
  {
   "cell_type": "code",
   "execution_count": null,
   "metadata": {},
   "outputs": [],
   "source": []
  },
  {
   "cell_type": "code",
   "execution_count": 1,
   "metadata": {},
   "outputs": [],
   "source": [
    "#se importa pandas y se realiza la lectura de los csv. \n",
    "import pandas as pd\n",
    "import sqldf\n",
    "df1= pd.read_csv('ratings/1.csv')\n",
    "df2= pd.read_csv('ratings/2.csv')\n",
    "df3= pd.read_csv('ratings/3.csv')\n",
    "df4= pd.read_csv('ratings/4.csv')\n",
    "df5= pd.read_csv('ratings/5.csv')\n",
    "df6= pd.read_csv('ratings/6.csv')\n",
    "df7= pd.read_csv('ratings/7.csv')\n",
    "df8= pd.read_csv('ratings/8.csv')\n"
   ]
  },
  {
   "cell_type": "code",
   "execution_count": 1,
   "metadata": {},
   "outputs": [
    {
     "ename": "NameError",
     "evalue": "name 'pd' is not defined",
     "output_type": "error",
     "traceback": [
      "\u001b[1;31m---------------------------------------------------------------------------\u001b[0m",
      "\u001b[1;31mNameError\u001b[0m                                 Traceback (most recent call last)",
      "Cell \u001b[1;32mIn [1], line 1\u001b[0m\n\u001b[1;32m----> 1\u001b[0m df_rating\u001b[39m=\u001b[39mpd\u001b[39m.\u001b[39mconcat([df1,df2,df3,df4,df5,df6,df7,df8]) \u001b[39m#se unen los dataframes\u001b[39;00m\n\u001b[0;32m      2\u001b[0m df_rating\u001b[39m.\u001b[39minfo()\n\u001b[0;32m      3\u001b[0m df_rating \u001b[39m=\u001b[39m df_rating\u001b[39m.\u001b[39mdrop(\u001b[39m'\u001b[39m\u001b[39mtimestamp\u001b[39m\u001b[39m'\u001b[39m, \u001b[39m1\u001b[39m) \u001b[39m#se elimina la columna timestamp. ya que no posee relevancia para los modelos a implementar.\u001b[39;00m\n",
      "\u001b[1;31mNameError\u001b[0m: name 'pd' is not defined"
     ]
    }
   ],
   "source": [
    "df_rating=pd.concat([df1,df2,df3,df4,df5,df6,df7,df8]) #se unen los dataframes\n",
    "df_rating.info()\n",
    "df_rating = df_rating.drop('timestamp', 1) #se elimina la columna timestamp. ya que no posee relevancia para los modelos a implementar.\n",
    "df_rating.to_parquet('df.parquet.gzip',\n",
    "              compression='gzip') # se guarda en un formato parquet comprimido para optimizar espacio, en caso de ser necesario. \n",
    "df_rating.to_csv('user.csv')#se guarda el archivo para utilizar los DF unidos"
   ]
  },
  {
   "cell_type": "code",
   "execution_count": 4,
   "metadata": {},
   "outputs": [],
   "source": [
    "#mediante una query, se extrae la media de la sumatoria de los ratings,\n",
    "#agrupado por la columna id.\n",
    "\n",
    "query= f'SELECT movieId as id, AVG(rating) as rating FROM df_rating GROUP BY movieId' \n",
    "stramingr = sqldf.run(query)\n"
   ]
  },
  {
   "cell_type": "code",
   "execution_count": 5,
   "metadata": {},
   "outputs": [],
   "source": [
    "\n",
    "#se verifican el resultado y se guarda el archivo en un CSV\n",
    "stramingr.head()\n",
    "stramingr.to_csv('ratings.csv')"
   ]
  },
  {
   "cell_type": "code",
   "execution_count": 6,
   "metadata": {},
   "outputs": [],
   "source": [
    "#para realizar la union con el Dataframe de las plataformas se lee el mismo\n",
    "df = pd.read_csv('streaming_database.csv')"
   ]
  },
  {
   "cell_type": "code",
   "execution_count": 7,
   "metadata": {},
   "outputs": [],
   "source": [
    "#Se unen estos, utilizando como conector la column id (nombrada asi en la Query)\n",
    "dfdef = pd.merge(stramingr,df,on= 'id')\n"
   ]
  },
  {
   "cell_type": "code",
   "execution_count": 8,
   "metadata": {},
   "outputs": [],
   "source": [
    "#se guarda el Dataframe definitivo\n",
    "dfdef.to_csv('dfdef.csv') "
   ]
  },
  {
   "cell_type": "code",
   "execution_count": null,
   "metadata": {},
   "outputs": [],
   "source": []
  }
 ],
 "metadata": {
  "kernelspec": {
   "display_name": "Python 3",
   "language": "python",
   "name": "python3"
  },
  "language_info": {
   "codemirror_mode": {
    "name": "ipython",
    "version": 3
   },
   "file_extension": ".py",
   "mimetype": "text/x-python",
   "name": "python",
   "nbconvert_exporter": "python",
   "pygments_lexer": "ipython3",
   "version": "3.10.7"
  },
  "orig_nbformat": 4,
  "vscode": {
   "interpreter": {
    "hash": "33afee138e0f51acdcd0c0e0dc606a7a3e56a9b9b1947d8de36ef0275db6a2ec"
   }
  }
 },
 "nbformat": 4,
 "nbformat_minor": 2
}
