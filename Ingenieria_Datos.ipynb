{
 "cells": [
  {
   "cell_type": "code",
   "execution_count": 6,
   "id": "35bdf577-147c-42b8-a811-654d88aec6ab",
   "metadata": {},
   "outputs": [],
   "source": [
    "import pandas as pd\n",
    "import numpy as np"
   ]
  },
  {
   "cell_type": "code",
   "execution_count": 7,
   "id": "93f28d70-f0e8-45b3-9e5e-a9ed57f72b70",
   "metadata": {},
   "outputs": [],
   "source": [
    "amazon = pd.read_csv(r\"Datasets/amazon_prime_titles-score.csv\")\n",
    "disney = pd.read_csv(r\"Datasets/disney_plus_titles-score.csv\")\n",
    "hulu = pd.read_csv(r\"Datasets/hulu_titles-score (2).csv\")\n",
    "netflix = pd.read_csv(r\"Datasets/netflix_titles-score.csv\")"
   ]
  },
  {
   "cell_type": "markdown",
   "id": "0686688f-ab6f-4e90-ae8d-ff0bd937fddb",
   "metadata": {},
   "source": [
    "# Limpieza de Datos"
   ]
  },
  {
   "cell_type": "markdown",
   "id": "92027db4-9eb9-4798-905a-c11d53a1b7ee",
   "metadata": {},
   "source": [
    "## Generar campo **`id`**: Cada id se compondrá de la primera letra del nombre de la plataforma, seguido del show_id ya presente en los datasets (ejemplo para títulos de Amazon = **`as123`**)"
   ]
  },
  {
   "cell_type": "markdown",
   "id": "90e55dcd-691f-4a7d-9b9b-59272260c2a3",
   "metadata": {},
   "source": [
    "## Primero clasifico y designo tipos de datos correspondientes a cada columna"
   ]
  },
  {
   "cell_type": "code",
   "execution_count": 4,
   "id": "a6223c26-5fed-4464-bfda-de165120ad22",
   "metadata": {},
   "outputs": [],
   "source": [
    "# amazon\n",
    "amazon['show_id'] = amazon['show_id'].astype('str')\n",
    "amazon['type'] = amazon['type'].astype('category')\n",
    "amazon['title'] = amazon['title'].astype('str')\n",
    "amazon['director'] = amazon['director'].astype('str')\n",
    "amazon['cast'] = amazon['cast'].astype('str')\n",
    "amazon['country'] = amazon['country'].astype('str')\n",
    "amazon['date_added'] = pd.to_datetime(amazon['date_added'], infer_datetime_format=True, errors='coerce')\n",
    "amazon['release_year'] = amazon['release_year'].astype('int16')\n",
    "amazon['rating'] = amazon['rating'].astype('str')\n",
    "amazon['listed_in'] = amazon['listed_in'].astype('str')\n",
    "amazon['description'] = amazon['description'].astype('str')\n",
    "amazon['score'] = amazon['score'].astype('int8')\n"
   ]
  },
  {
   "cell_type": "code",
   "execution_count": 5,
   "id": "91c94c41-cd7b-4a30-82c4-d34ab77edbe7",
   "metadata": {},
   "outputs": [],
   "source": [
    "amazon['id'] = 'a' + amazon['show_id']"
   ]
  },
  {
   "cell_type": "code",
   "execution_count": 6,
   "id": "af783532-927c-488a-9ac1-c5e0d3934a20",
   "metadata": {},
   "outputs": [],
   "source": [
    "amazon['id'] = amazon['id'].astype('str')"
   ]
  },
  {
   "cell_type": "code",
   "execution_count": 7,
   "id": "38e9b2a5-5ba0-427b-bce5-618a9945111e",
   "metadata": {},
   "outputs": [],
   "source": [
    "# disney\n",
    "disney['show_id'] = disney['show_id'].astype('str')\n",
    "disney['type'] = disney['type'].astype('category')\n",
    "disney['title'] = disney['title'].astype('str')\n",
    "disney['director'] = disney['director'].astype('str')\n",
    "disney['cast'] = disney['cast'].astype('str')\n",
    "disney['country'] = disney['country'].astype('str')\n",
    "disney['date_added'] = pd.to_datetime(disney['date_added'], infer_datetime_format=True, errors='coerce')\n",
    "disney['release_year'] = disney['release_year'].astype('int16')\n",
    "disney['rating'] = disney['rating'].astype('str')\n",
    "disney['listed_in'] = disney['listed_in'].astype('str')\n",
    "disney['description'] = disney['description'].astype('str')\n",
    "disney['score'] = disney['score'].astype('int8')"
   ]
  },
  {
   "cell_type": "code",
   "execution_count": 8,
   "id": "f41aeb32-94c1-49f3-b952-7710258c4164",
   "metadata": {},
   "outputs": [],
   "source": [
    "disney['id'] = 'd' + disney['show_id']"
   ]
  },
  {
   "cell_type": "code",
   "execution_count": 9,
   "id": "c7e140d5-12bf-48de-9fa9-955ba94e305d",
   "metadata": {},
   "outputs": [],
   "source": [
    "disney['id'] = disney['id'].astype('str')"
   ]
  },
  {
   "cell_type": "code",
   "execution_count": 10,
   "id": "819dd11b-65b7-42da-bc07-16626fe7d176",
   "metadata": {},
   "outputs": [],
   "source": [
    "# hulu\n",
    "hulu['show_id'] = hulu['show_id'].astype('str')\n",
    "hulu['type'] = hulu['type'].astype('category')\n",
    "hulu['title'] = hulu['title'].astype('str')\n",
    "hulu['director'] = hulu['director'].astype('str')\n",
    "hulu['cast'] = hulu['cast'].astype('str')\n",
    "hulu['country'] = hulu['country'].astype('str')\n",
    "hulu['date_added'] = pd.to_datetime(hulu['date_added'], infer_datetime_format=True, errors='coerce')\n",
    "hulu['release_year'] = hulu['release_year'].astype('int16')\n",
    "hulu['rating'] = hulu['rating'].astype('str')\n",
    "hulu['listed_in'] = hulu['listed_in'].astype('str')\n",
    "hulu['description'] = hulu['description'].astype('str')\n",
    "hulu['score'] = hulu['score'].astype('int8')"
   ]
  },
  {
   "cell_type": "code",
   "execution_count": 11,
   "id": "664c32df-fa95-4c91-a1d0-2d74b22e7cdb",
   "metadata": {},
   "outputs": [],
   "source": [
    "hulu['id'] = 'h' + hulu['show_id']"
   ]
  },
  {
   "cell_type": "code",
   "execution_count": 12,
   "id": "4b8d7ede-c7fa-4daa-831b-df458a9c2cd9",
   "metadata": {},
   "outputs": [],
   "source": [
    "hulu['id'] = hulu['id'].astype('str')"
   ]
  },
  {
   "cell_type": "code",
   "execution_count": 13,
   "id": "fa1f5531-df08-4ccc-8a3b-8341748d9818",
   "metadata": {},
   "outputs": [],
   "source": [
    "# netflix\n",
    "netflix['show_id'] = netflix['show_id'].astype('str')\n",
    "netflix['type'] = netflix['type'].astype('category')\n",
    "netflix['title'] = netflix['title'].astype('str')\n",
    "netflix['director'] = netflix['director'].astype('str')\n",
    "netflix['cast'] = netflix['cast'].astype('str')\n",
    "netflix['country'] = netflix['country'].astype('str')\n",
    "netflix['date_added'] = pd.to_datetime(netflix['date_added'], infer_datetime_format=True, errors='coerce')\n",
    "netflix['release_year'] = netflix['release_year'].astype('int16')\n",
    "netflix['rating'] = netflix['rating'].astype('str')\n",
    "netflix['listed_in'] = netflix['listed_in'].astype('str')\n",
    "netflix['description'] = netflix['description'].astype('str')\n",
    "netflix['score'] = netflix['score'].astype('int8')"
   ]
  },
  {
   "cell_type": "code",
   "execution_count": 14,
   "id": "6b888d68-d1c5-4e38-b9c0-db928faf4c35",
   "metadata": {},
   "outputs": [],
   "source": [
    "netflix['id'] = 'n' + netflix['show_id']"
   ]
  },
  {
   "cell_type": "code",
   "execution_count": 15,
   "id": "e427adea-3cec-4146-bbd6-af33b86816f7",
   "metadata": {},
   "outputs": [],
   "source": [
    "netflix['id'] = netflix['id'].astype('str')"
   ]
  },
  {
   "cell_type": "markdown",
   "id": "2326a2fb-6651-4f0f-b1ff-43087fa354cf",
   "metadata": {},
   "source": [
    "## Los valores nulos del campo rating deberán reemplazarse por el string “**`G`**” (corresponde al maturity rating: “general for all audiences”"
   ]
  },
  {
   "cell_type": "markdown",
   "id": "8f1157bf-8ab9-4f68-b40d-d7a0b94b6a65",
   "metadata": {},
   "source": [
    "# Tengo dudas con esta parte, porque este codigo no coge los NaN"
   ]
  },
  {
   "cell_type": "code",
   "execution_count": 16,
   "id": "e2671bf0",
   "metadata": {},
   "outputs": [
    {
     "data": {
      "text/plain": [
       "0      G\n",
       "1    13+\n",
       "2      G\n",
       "3      G\n",
       "4      G\n",
       "Name: rating, dtype: object"
      ]
     },
     "execution_count": 16,
     "metadata": {},
     "output_type": "execute_result"
    }
   ],
   "source": [
    "# Remplazaremos el str nan por el str G (asi como en las demas columnas)\n",
    "amazon['rating'] = amazon['rating'].replace( \"nan\" , 'G')\n",
    "#se consulta el resultado\n",
    "amazon['rating'].head()"
   ]
  },
  {
   "cell_type": "code",
   "execution_count": 17,
   "id": "c3aef421-46ef-4aa4-9567-32ff31374012",
   "metadata": {},
   "outputs": [
    {
     "data": {
      "text/plain": [
       "0     TV-G\n",
       "1       PG\n",
       "2     TV-G\n",
       "3    TV-PG\n",
       "4        G\n",
       "Name: rating, dtype: object"
      ]
     },
     "execution_count": 17,
     "metadata": {},
     "output_type": "execute_result"
    }
   ],
   "source": [
    "disney['rating'] = disney['rating'].replace( \"nan\" , 'G')\n",
    "disney[\"rating\"].head()"
   ]
  },
  {
   "cell_type": "code",
   "execution_count": 18,
   "id": "d81428da-f824-4225-86de-bbacb4126698",
   "metadata": {},
   "outputs": [
    {
     "data": {
      "text/plain": [
       "0    TV-MA\n",
       "1        G\n",
       "2    PG-13\n",
       "3        R\n",
       "4        G\n",
       "Name: rating, dtype: object"
      ]
     },
     "execution_count": 18,
     "metadata": {},
     "output_type": "execute_result"
    }
   ],
   "source": [
    "hulu['rating'] = hulu['rating'].replace( \"nan\" , 'G')\n",
    "hulu[\"rating\"].head()"
   ]
  },
  {
   "cell_type": "code",
   "execution_count": 19,
   "id": "8e4afd8d-c0d5-49da-8123-6c60dd78cb88",
   "metadata": {},
   "outputs": [
    {
     "data": {
      "text/plain": [
       "0    PG-13\n",
       "1    TV-MA\n",
       "2    TV-MA\n",
       "3    TV-MA\n",
       "4    TV-MA\n",
       "Name: rating, dtype: object"
      ]
     },
     "execution_count": 19,
     "metadata": {},
     "output_type": "execute_result"
    }
   ],
   "source": [
    "netflix['rating'] = netflix['rating'].replace( \"nan\" , 'G')\n",
    "netflix[\"rating\"].head()"
   ]
  },
  {
   "cell_type": "markdown",
   "id": "5671301c-4283-4453-9c8c-995e4fa61a04",
   "metadata": {},
   "source": [
    "##  De haber fechas, deberán tener el formato **`AAAA-mm-dd`**"
   ]
  },
  {
   "cell_type": "code",
   "execution_count": 20,
   "id": "10646f6b-d111-446d-99df-76f3abfa9bd6",
   "metadata": {},
   "outputs": [],
   "source": [
    "amazon['date_added'] = pd.to_datetime(amazon['date_added'], infer_datetime_format=True, errors='coerce')"
   ]
  },
  {
   "cell_type": "code",
   "execution_count": 21,
   "id": "b3887582-0785-469d-9ff1-4ccbcea88290",
   "metadata": {},
   "outputs": [
    {
     "data": {
      "text/plain": [
       "0   2021-03-30\n",
       "1   2021-03-30\n",
       "2   2021-03-30\n",
       "3   2021-03-30\n",
       "4   2021-03-30\n",
       "Name: date_added, dtype: datetime64[ns]"
      ]
     },
     "execution_count": 21,
     "metadata": {},
     "output_type": "execute_result"
    }
   ],
   "source": [
    "amazon['date_added'].head()"
   ]
  },
  {
   "cell_type": "code",
   "execution_count": 22,
   "id": "51165b0c-97a1-422a-91e0-8583de62fb32",
   "metadata": {},
   "outputs": [],
   "source": [
    "disney['date_added'] = pd.to_datetime(disney['date_added'], infer_datetime_format=True, errors='coerce')"
   ]
  },
  {
   "cell_type": "code",
   "execution_count": 23,
   "id": "3ca19b56-a4bb-4934-9f78-b4145db0e923",
   "metadata": {},
   "outputs": [
    {
     "data": {
      "text/plain": [
       "0   2021-11-26\n",
       "1   2021-11-26\n",
       "2   2021-11-26\n",
       "3   2021-11-26\n",
       "4   2021-11-25\n",
       "Name: date_added, dtype: datetime64[ns]"
      ]
     },
     "execution_count": 23,
     "metadata": {},
     "output_type": "execute_result"
    }
   ],
   "source": [
    "disney['date_added'].head()"
   ]
  },
  {
   "cell_type": "code",
   "execution_count": 24,
   "id": "9474fe4c-ff8c-4408-b200-5cfdb4f54c80",
   "metadata": {},
   "outputs": [],
   "source": [
    "hulu['date_added'] = pd.to_datetime(hulu['date_added'], infer_datetime_format=True, errors='coerce')"
   ]
  },
  {
   "cell_type": "code",
   "execution_count": 25,
   "id": "a9ae17bf-3bf9-4ecd-a2b0-894e5b3a28a2",
   "metadata": {},
   "outputs": [
    {
     "data": {
      "text/plain": [
       "0   2021-10-24\n",
       "1   2021-10-23\n",
       "2   2021-10-23\n",
       "3   2021-10-22\n",
       "4   2021-10-22\n",
       "Name: date_added, dtype: datetime64[ns]"
      ]
     },
     "execution_count": 25,
     "metadata": {},
     "output_type": "execute_result"
    }
   ],
   "source": [
    "hulu['date_added'].head()"
   ]
  },
  {
   "cell_type": "code",
   "execution_count": 26,
   "id": "c41ff720-1389-4894-9bd3-362acd4fce2b",
   "metadata": {},
   "outputs": [],
   "source": [
    "netflix['date_added'] = pd.to_datetime(netflix['date_added'], infer_datetime_format=True, errors='coerce')"
   ]
  },
  {
   "cell_type": "code",
   "execution_count": 27,
   "id": "81e4dbc8-e809-4adf-bf3d-ab21f3fd216f",
   "metadata": {},
   "outputs": [
    {
     "data": {
      "text/plain": [
       "0   2021-09-25\n",
       "1   2021-09-24\n",
       "2   2021-09-24\n",
       "3   2021-09-24\n",
       "4   2021-09-24\n",
       "Name: date_added, dtype: datetime64[ns]"
      ]
     },
     "execution_count": 27,
     "metadata": {},
     "output_type": "execute_result"
    }
   ],
   "source": [
    "netflix['date_added'].head()"
   ]
  },
  {
   "cell_type": "code",
   "execution_count": 28,
   "id": "9d40cdf8",
   "metadata": {},
   "outputs": [
    {
     "data": {
      "text/plain": [
       "0       90 min\n",
       "1    2 Seasons\n",
       "2     1 Season\n",
       "3     1 Season\n",
       "4    2 Seasons\n",
       "Name: duration, dtype: object"
      ]
     },
     "execution_count": 28,
     "metadata": {},
     "output_type": "execute_result"
    }
   ],
   "source": [
    "netflix[\"duration\"].head()"
   ]
  },
  {
   "cell_type": "markdown",
   "id": "cb17daea-a660-428b-8590-7969ffe5c0a4",
   "metadata": {},
   "source": [
    "El campo ***duration*** debe convertirse en dos campos: **`duration_int`** y **`duration_type`**. El primero será un integer y el segundo un string indicando la unidad de medición de duración: min (minutos) o season (temporadas)"
   ]
  },
  {
   "cell_type": "code",
   "execution_count": 29,
   "id": "1c680e41-904e-467b-a321-921f2b486ff0",
   "metadata": {},
   "outputs": [],
   "source": [
    "amazon[['duration_int', 'duration_type']] = amazon['duration'].str.split(' ', n=-1, expand=True, regex=None)\n",
    "amazon = amazon[amazon.columns[:10].tolist() + ['duration_int', 'duration_type'] + amazon.columns[10:-2].tolist()]"
   ]
  },
  {
   "cell_type": "code",
   "execution_count": 30,
   "id": "be184d9b-b13e-45e6-923e-1573057aa1c2",
   "metadata": {},
   "outputs": [
    {
     "data": {
      "text/html": [
       "<div>\n",
       "<style scoped>\n",
       "    .dataframe tbody tr th:only-of-type {\n",
       "        vertical-align: middle;\n",
       "    }\n",
       "\n",
       "    .dataframe tbody tr th {\n",
       "        vertical-align: top;\n",
       "    }\n",
       "\n",
       "    .dataframe thead th {\n",
       "        text-align: right;\n",
       "    }\n",
       "</style>\n",
       "<table border=\"1\" class=\"dataframe\">\n",
       "  <thead>\n",
       "    <tr style=\"text-align: right;\">\n",
       "      <th></th>\n",
       "      <th>duration_int</th>\n",
       "      <th>duration_type</th>\n",
       "    </tr>\n",
       "  </thead>\n",
       "  <tbody>\n",
       "    <tr>\n",
       "      <th>0</th>\n",
       "      <td>113</td>\n",
       "      <td>min</td>\n",
       "    </tr>\n",
       "    <tr>\n",
       "      <th>1</th>\n",
       "      <td>110</td>\n",
       "      <td>min</td>\n",
       "    </tr>\n",
       "    <tr>\n",
       "      <th>2</th>\n",
       "      <td>74</td>\n",
       "      <td>min</td>\n",
       "    </tr>\n",
       "    <tr>\n",
       "      <th>3</th>\n",
       "      <td>69</td>\n",
       "      <td>min</td>\n",
       "    </tr>\n",
       "    <tr>\n",
       "      <th>4</th>\n",
       "      <td>45</td>\n",
       "      <td>min</td>\n",
       "    </tr>\n",
       "    <tr>\n",
       "      <th>5</th>\n",
       "      <td>52</td>\n",
       "      <td>min</td>\n",
       "    </tr>\n",
       "    <tr>\n",
       "      <th>6</th>\n",
       "      <td>98</td>\n",
       "      <td>min</td>\n",
       "    </tr>\n",
       "    <tr>\n",
       "      <th>7</th>\n",
       "      <td>131</td>\n",
       "      <td>min</td>\n",
       "    </tr>\n",
       "    <tr>\n",
       "      <th>8</th>\n",
       "      <td>87</td>\n",
       "      <td>min</td>\n",
       "    </tr>\n",
       "    <tr>\n",
       "      <th>9</th>\n",
       "      <td>92</td>\n",
       "      <td>min</td>\n",
       "    </tr>\n",
       "    <tr>\n",
       "      <th>10</th>\n",
       "      <td>88</td>\n",
       "      <td>min</td>\n",
       "    </tr>\n",
       "    <tr>\n",
       "      <th>11</th>\n",
       "      <td>93</td>\n",
       "      <td>min</td>\n",
       "    </tr>\n",
       "    <tr>\n",
       "      <th>12</th>\n",
       "      <td>94</td>\n",
       "      <td>min</td>\n",
       "    </tr>\n",
       "    <tr>\n",
       "      <th>13</th>\n",
       "      <td>46</td>\n",
       "      <td>min</td>\n",
       "    </tr>\n",
       "    <tr>\n",
       "      <th>14</th>\n",
       "      <td>74</td>\n",
       "      <td>min</td>\n",
       "    </tr>\n",
       "    <tr>\n",
       "      <th>15</th>\n",
       "      <td>96</td>\n",
       "      <td>min</td>\n",
       "    </tr>\n",
       "    <tr>\n",
       "      <th>16</th>\n",
       "      <td>87</td>\n",
       "      <td>min</td>\n",
       "    </tr>\n",
       "    <tr>\n",
       "      <th>17</th>\n",
       "      <td>1</td>\n",
       "      <td>season</td>\n",
       "    </tr>\n",
       "    <tr>\n",
       "      <th>18</th>\n",
       "      <td>1</td>\n",
       "      <td>season</td>\n",
       "    </tr>\n",
       "    <tr>\n",
       "      <th>19</th>\n",
       "      <td>104</td>\n",
       "      <td>min</td>\n",
       "    </tr>\n",
       "  </tbody>\n",
       "</table>\n",
       "</div>"
      ],
      "text/plain": [
       "   duration_int duration_type\n",
       "0           113           min\n",
       "1           110           min\n",
       "2            74           min\n",
       "3            69           min\n",
       "4            45           min\n",
       "5            52           min\n",
       "6            98           min\n",
       "7           131           min\n",
       "8            87           min\n",
       "9            92           min\n",
       "10           88           min\n",
       "11           93           min\n",
       "12           94           min\n",
       "13           46           min\n",
       "14           74           min\n",
       "15           96           min\n",
       "16           87           min\n",
       "17            1        season\n",
       "18            1        season\n",
       "19          104           min"
      ]
     },
     "execution_count": 30,
     "metadata": {},
     "output_type": "execute_result"
    }
   ],
   "source": [
    "amazon[\"duration_type\"]= amazon[\"duration_type\"].replace(\"Seasons\", \"season\")\n",
    "amazon[\"duration_type\"]= amazon[\"duration_type\"].replace(\"Season\", \"season\")\n",
    "amazon[['duration_int', 'duration_type']].head(20)"
   ]
  },
  {
   "cell_type": "code",
   "execution_count": 31,
   "id": "2eb2e228-9a64-45b9-87cc-22179b1e1e41",
   "metadata": {},
   "outputs": [],
   "source": [
    "disney[['duration_int', 'duration_type']] = disney['duration'].str.split(' ', n=-1, expand=True, regex=None)\n",
    "disney = disney[disney.columns[:10].tolist() + ['duration_int', 'duration_type'] + disney.columns[10:-2].tolist()]"
   ]
  },
  {
   "cell_type": "code",
   "execution_count": 32,
   "id": "e4b67a08-55db-4b9b-a731-5477bb6890a8",
   "metadata": {},
   "outputs": [
    {
     "data": {
      "text/html": [
       "<div>\n",
       "<style scoped>\n",
       "    .dataframe tbody tr th:only-of-type {\n",
       "        vertical-align: middle;\n",
       "    }\n",
       "\n",
       "    .dataframe tbody tr th {\n",
       "        vertical-align: top;\n",
       "    }\n",
       "\n",
       "    .dataframe thead th {\n",
       "        text-align: right;\n",
       "    }\n",
       "</style>\n",
       "<table border=\"1\" class=\"dataframe\">\n",
       "  <thead>\n",
       "    <tr style=\"text-align: right;\">\n",
       "      <th></th>\n",
       "      <th>duration_int</th>\n",
       "      <th>duration_type</th>\n",
       "    </tr>\n",
       "  </thead>\n",
       "  <tbody>\n",
       "    <tr>\n",
       "      <th>0</th>\n",
       "      <td>23</td>\n",
       "      <td>min</td>\n",
       "    </tr>\n",
       "    <tr>\n",
       "      <th>1</th>\n",
       "      <td>91</td>\n",
       "      <td>min</td>\n",
       "    </tr>\n",
       "    <tr>\n",
       "      <th>2</th>\n",
       "      <td>23</td>\n",
       "      <td>min</td>\n",
       "    </tr>\n",
       "    <tr>\n",
       "      <th>3</th>\n",
       "      <td>41</td>\n",
       "      <td>min</td>\n",
       "    </tr>\n",
       "    <tr>\n",
       "      <th>4</th>\n",
       "      <td>1</td>\n",
       "      <td>season</td>\n",
       "    </tr>\n",
       "  </tbody>\n",
       "</table>\n",
       "</div>"
      ],
      "text/plain": [
       "  duration_int duration_type\n",
       "0           23           min\n",
       "1           91           min\n",
       "2           23           min\n",
       "3           41           min\n",
       "4            1        season"
      ]
     },
     "execution_count": 32,
     "metadata": {},
     "output_type": "execute_result"
    }
   ],
   "source": [
    "disney[\"duration_type\"]= disney[\"duration_type\"].replace(\"Seasons\", \"season\")\n",
    "disney[\"duration_type\"]= disney[\"duration_type\"].replace(\"Season\", \"season\")\n",
    "disney[['duration_int', 'duration_type']].head()"
   ]
  },
  {
   "cell_type": "code",
   "execution_count": 33,
   "id": "bbcd4a62-242c-4d08-a4bd-57bc9cf4dc1c",
   "metadata": {},
   "outputs": [],
   "source": [
    "hulu[['duration_int', 'duration_type']] = hulu['duration'].str.split(' ', n=-1, expand=True, regex=None)\n",
    "hulu = hulu[hulu.columns[:10].tolist() + ['duration_int', 'duration_type'] + hulu.columns[10:-2].tolist()]"
   ]
  },
  {
   "cell_type": "code",
   "execution_count": 34,
   "id": "418195c1-3445-4ad3-a7f2-11071d754365",
   "metadata": {},
   "outputs": [
    {
     "data": {
      "text/html": [
       "<div>\n",
       "<style scoped>\n",
       "    .dataframe tbody tr th:only-of-type {\n",
       "        vertical-align: middle;\n",
       "    }\n",
       "\n",
       "    .dataframe tbody tr th {\n",
       "        vertical-align: top;\n",
       "    }\n",
       "\n",
       "    .dataframe thead th {\n",
       "        text-align: right;\n",
       "    }\n",
       "</style>\n",
       "<table border=\"1\" class=\"dataframe\">\n",
       "  <thead>\n",
       "    <tr style=\"text-align: right;\">\n",
       "      <th></th>\n",
       "      <th>duration_int</th>\n",
       "      <th>duration_type</th>\n",
       "    </tr>\n",
       "  </thead>\n",
       "  <tbody>\n",
       "    <tr>\n",
       "      <th>0</th>\n",
       "      <td>NaN</td>\n",
       "      <td>NaN</td>\n",
       "    </tr>\n",
       "    <tr>\n",
       "      <th>1</th>\n",
       "      <td>94</td>\n",
       "      <td>min</td>\n",
       "    </tr>\n",
       "    <tr>\n",
       "      <th>2</th>\n",
       "      <td>108</td>\n",
       "      <td>min</td>\n",
       "    </tr>\n",
       "    <tr>\n",
       "      <th>3</th>\n",
       "      <td>97</td>\n",
       "      <td>min</td>\n",
       "    </tr>\n",
       "    <tr>\n",
       "      <th>4</th>\n",
       "      <td>104</td>\n",
       "      <td>min</td>\n",
       "    </tr>\n",
       "  </tbody>\n",
       "</table>\n",
       "</div>"
      ],
      "text/plain": [
       "  duration_int duration_type\n",
       "0          NaN           NaN\n",
       "1           94           min\n",
       "2          108           min\n",
       "3           97           min\n",
       "4          104           min"
      ]
     },
     "execution_count": 34,
     "metadata": {},
     "output_type": "execute_result"
    }
   ],
   "source": [
    "hulu[\"duration_type\"]= hulu[\"duration_type\"].replace(\"Seasons\", \"season\")\n",
    "hulu[\"duration_type\"]= hulu[\"duration_type\"].replace(\"Season\", \"season\")\n",
    "hulu[['duration_int', 'duration_type']].head()"
   ]
  },
  {
   "cell_type": "code",
   "execution_count": 35,
   "id": "d87479d1-b37a-45ce-a729-aa6d237d047e",
   "metadata": {},
   "outputs": [],
   "source": [
    "netflix[['duration_int', 'duration_type']] = netflix['duration'].str.split(' ', n=-1, expand=True, regex=None)\n",
    "netflix = netflix[netflix.columns[:10].tolist() + ['duration_int', 'duration_type'] + netflix.columns[10:-2].tolist()]"
   ]
  },
  {
   "cell_type": "code",
   "execution_count": 36,
   "id": "09ef13fd-930b-43ad-9f25-3136ef611034",
   "metadata": {},
   "outputs": [
    {
     "data": {
      "text/html": [
       "<div>\n",
       "<style scoped>\n",
       "    .dataframe tbody tr th:only-of-type {\n",
       "        vertical-align: middle;\n",
       "    }\n",
       "\n",
       "    .dataframe tbody tr th {\n",
       "        vertical-align: top;\n",
       "    }\n",
       "\n",
       "    .dataframe thead th {\n",
       "        text-align: right;\n",
       "    }\n",
       "</style>\n",
       "<table border=\"1\" class=\"dataframe\">\n",
       "  <thead>\n",
       "    <tr style=\"text-align: right;\">\n",
       "      <th></th>\n",
       "      <th>duration_int</th>\n",
       "      <th>duration_type</th>\n",
       "    </tr>\n",
       "  </thead>\n",
       "  <tbody>\n",
       "    <tr>\n",
       "      <th>0</th>\n",
       "      <td>90</td>\n",
       "      <td>min</td>\n",
       "    </tr>\n",
       "    <tr>\n",
       "      <th>1</th>\n",
       "      <td>2</td>\n",
       "      <td>season</td>\n",
       "    </tr>\n",
       "    <tr>\n",
       "      <th>2</th>\n",
       "      <td>1</td>\n",
       "      <td>season</td>\n",
       "    </tr>\n",
       "    <tr>\n",
       "      <th>3</th>\n",
       "      <td>1</td>\n",
       "      <td>season</td>\n",
       "    </tr>\n",
       "    <tr>\n",
       "      <th>4</th>\n",
       "      <td>2</td>\n",
       "      <td>season</td>\n",
       "    </tr>\n",
       "  </tbody>\n",
       "</table>\n",
       "</div>"
      ],
      "text/plain": [
       "  duration_int duration_type\n",
       "0           90           min\n",
       "1            2        season\n",
       "2            1        season\n",
       "3            1        season\n",
       "4            2        season"
      ]
     },
     "execution_count": 36,
     "metadata": {},
     "output_type": "execute_result"
    }
   ],
   "source": [
    "netflix[\"duration_type\"]= netflix[\"duration_type\"].replace(\"Seasons\", \"season\")\n",
    "netflix[\"duration_type\"]= netflix[\"duration_type\"].replace(\"Season\", \"season\")\n",
    "netflix[['duration_int', 'duration_type']].head()"
   ]
  },
  {
   "cell_type": "markdown",
   "id": "b0aa0180-1d50-4642-bad8-2ee05a89a5f0",
   "metadata": {},
   "source": [
    "## Los campos de texto deberán estar en **minúsculas**, sin excepciones"
   ]
  },
  {
   "cell_type": "code",
   "execution_count": 37,
   "id": "6a65d18e-e4ef-45ad-b228-53272f37dc2e",
   "metadata": {},
   "outputs": [],
   "source": [
    "# amazon\n",
    "amazon['id'] = amazon['id'].str.lower()\n",
    "amazon['type'] = amazon['type'].str.lower()\n",
    "amazon['title'] = amazon['title'].str.lower()\n",
    "amazon['director'] = amazon['director'].str.lower()\n",
    "amazon['cast'] = amazon['cast'].str.lower()\n",
    "amazon['country'] = amazon['country'].str.lower()\n",
    "amazon['rating'] = amazon['rating'].str.lower()\n",
    "amazon['listed_in'] = amazon['listed_in'].str.lower()\n",
    "amazon['description'] = amazon['description'].str.lower()\n",
    "amazon['duration_type'] = amazon['duration_type'].str.lower()"
   ]
  },
  {
   "cell_type": "code",
   "execution_count": 38,
   "id": "5adb7f7a-f53a-46dd-b9a4-b97344449af9",
   "metadata": {},
   "outputs": [],
   "source": [
    "# disney\n",
    "disney['id'] = disney['id'].str.lower()\n",
    "disney['type'] = disney['type'].str.lower()\n",
    "disney['title'] = disney['title'].str.lower()\n",
    "disney['director'] = disney['director'].str.lower()\n",
    "disney['cast'] = disney['cast'].str.lower()\n",
    "disney['country'] = disney['country'].str.lower()\n",
    "disney['rating'] = disney['rating'].str.lower()\n",
    "disney['listed_in'] = disney['listed_in'].str.lower()\n",
    "disney['description'] = disney['description'].str.lower()\n",
    "disney['duration_type'] = disney['duration_type'].str.lower()"
   ]
  },
  {
   "cell_type": "code",
   "execution_count": 39,
   "id": "6a1b6618",
   "metadata": {},
   "outputs": [
    {
     "data": {
      "text/plain": [
       "0    duck the halls: a mickey mouse christmas special\n",
       "1                              ernest saves christmas\n",
       "2                        ice age: a mammoth christmas\n",
       "3                          the queen family singalong\n",
       "4                               the beatles: get back\n",
       "Name: title, dtype: object"
      ]
     },
     "execution_count": 39,
     "metadata": {},
     "output_type": "execute_result"
    }
   ],
   "source": [
    "disney[\"title\"].head()"
   ]
  },
  {
   "cell_type": "code",
   "execution_count": 40,
   "id": "45b0814c-49fa-4996-aa70-62064d371a58",
   "metadata": {},
   "outputs": [],
   "source": [
    "# hulu\n",
    "hulu['id'] = hulu['id'].str.lower()\n",
    "hulu['type'] = hulu['type'].str.lower()\n",
    "hulu['title'] = hulu['title'].str.lower()\n",
    "hulu['director'] = hulu['director'].str.lower()\n",
    "hulu['cast'] = hulu['cast'].str.lower()\n",
    "hulu['country'] = hulu['country'].str.lower()\n",
    "hulu['rating'] = hulu['rating'].str.lower()\n",
    "hulu['listed_in'] = hulu['listed_in'].str.lower()\n",
    "hulu['description'] = hulu['description'].str.lower()\n"
   ]
  },
  {
   "cell_type": "code",
   "execution_count": 41,
   "id": "1576a0a6-5e1e-4ee0-91dd-4a1d3bb5d035",
   "metadata": {},
   "outputs": [],
   "source": [
    "# netflix\n",
    "netflix['id'] = netflix['id'].str.lower()\n",
    "netflix['type'] = netflix['type'].str.lower()\n",
    "netflix['title'] = netflix['title'].str.lower()\n",
    "netflix['director'] = netflix['director'].str.lower()\n",
    "netflix['cast'] = netflix['cast'].str.lower()\n",
    "netflix['country'] = netflix['country'].str.lower()\n",
    "netflix['rating'] = netflix['rating'].str.lower()\n",
    "netflix['listed_in'] = netflix['listed_in'].str.lower()\n",
    "netflix['description'] = netflix['description'].str.lower()\n",
    "netflix['duration_type'] = netflix['duration_type'].str.lower()"
   ]
  },
  {
   "cell_type": "code",
   "execution_count": 42,
   "id": "a9f66cfd",
   "metadata": {},
   "outputs": [],
   "source": [
    "netflix.to_csv(\"netflix_csv\")\n",
    "hulu.to_csv(\"hulu_csv\")\n",
    "disney.to_csv(\"dinay_csv\")\n",
    "amazon.to_csv(\"amazon_csv\")"
   ]
  }
 ],
 "metadata": {
  "kernelspec": {
   "display_name": "Python 3.9.13 64-bit",
   "language": "python",
   "name": "python3"
  },
  "language_info": {
   "codemirror_mode": {
    "name": "ipython",
    "version": 3
   },
   "file_extension": ".py",
   "mimetype": "text/x-python",
   "name": "python",
   "nbconvert_exporter": "python",
   "pygments_lexer": "ipython3",
   "version": "3.9.13"
  },
  "vscode": {
   "interpreter": {
    "hash": "f9f85f796d01129d0dd105a088854619f454435301f6ffec2fea96ecbd9be4ac"
   }
  }
 },
 "nbformat": 4,
 "nbformat_minor": 5
}
